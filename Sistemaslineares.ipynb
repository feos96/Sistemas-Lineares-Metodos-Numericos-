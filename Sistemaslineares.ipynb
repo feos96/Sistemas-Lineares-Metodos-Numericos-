{
 "cells": [
  {
   "cell_type": "markdown",
   "id": "a582a7ec",
   "metadata": {},
   "source": [
    "# Introdução #\n",
    "\n",
    "## Equações lineares ##\n",
    "\n",
    "Uma reta num sistema bidimensional de coordenadas retangulares *xy* pode ser representada por uma equação na forma\n",
    "\n",
    "*ax + by = c*\n",
    "\n",
    "e que um plano num sistema tridimensional de coordenadas retangulares xyz pode ser representado por uma equação da forma\n",
    "\n",
    "*ax + by + cz = d*\n",
    "\n",
    "Esses são exemplos de “equações lineares”, Mais geralmente, definimos uma equação linear nas n variáveis x1, x2, . . . , xn como uma equação que pode ser expressa na forma\n",
    " \n",
    "*a1x1 + a2x2 +· · · + anxn = b*\n"
   ]
  },
  {
   "cell_type": "code",
   "execution_count": 65,
   "id": "677813ee",
   "metadata": {},
   "outputs": [],
   "source": [
    "import sympy as sym\n",
    "x = sym.Symbol('x') \n",
    "y = sym.Symbol('y')\n",
    "z = sym.Symbol('z')"
   ]
  },
  {
   "cell_type": "code",
   "execution_count": 66,
   "id": "4ba3ae39",
   "metadata": {},
   "outputs": [
    {
     "data": {
      "text/plain": [
       "[{x: y**2}, {z: 0}]"
      ]
     },
     "execution_count": 66,
     "metadata": {},
     "output_type": "execute_result"
    }
   ],
   "source": [
    "sym.solve(z**2*x - z**2*y**2)"
   ]
  },
  {
   "cell_type": "markdown",
   "id": "87c29bc9",
   "metadata": {},
   "source": [
    "## Soluções de equações lineares ##\n",
    "\n",
    "### 1 - Possui uma única solução ###\n",
    "\n",
    "![R2Umasolucao](https://arquivos.respondeai.com.br/seo-mirror/theory/2021/dd858df8-331f-4a87-b287-dadeb6f081a4.jpeg)\n",
    "\n",
    "### 2 - Possui infinitas soluções ###\n",
    "\n",
    "![R2infinitasolucao](https://arquivos.respondeai.com.br/seo-mirror/theory/2021/0b86d100-5745-46d3-a9e6-b89147696fe0.jpeg)\n",
    "\n",
    "### 3 - Não possui solução ###\n",
    "\n",
    "![R2nenhumasolucao](https://arquivos.respondeai.com.br/seo-mirror/theory/2021/5f4c53c2-0760-42d5-9f5f-bebf5ea8a825.jpeg)\n"
   ]
  },
  {
   "cell_type": "markdown",
   "id": "4b956696",
   "metadata": {},
   "source": [
    "# Sistemas Lineares #\n",
    "\n",
    "Um conjunto finito de equações lineares é denominado um **sistema de equações lineares** ou, simplesmente, um **sistema linear**.\n",
    "\n",
    "![Sistema linear modelo](https://www.stoodi.com.br/wp-content/uploads/2020/03/sistemas-lineares.jpg)"
   ]
  },
  {
   "cell_type": "markdown",
   "id": "e6e4c41f",
   "metadata": {},
   "source": [
    "# Solução Equações Lineares #\n",
    "\n",
    "## Introdução ##\n",
    "\n",
    "* O sistema pode ser escrito na forma de um produto matricial Ax = b, onde as matrizes são definidas por:\n",
    "\n",
    "![Modelo matricial](https://geokrigagem.com.br/wp-content/uploads/2020/07/formula_2-3-1024x265.png)\n",
    "\n",
    "* A é a matriz (m, n) dos coeficientes\n",
    "* x é o vetor das variáveis(n linhas)\n",
    "* b é o vetor das constantes(m linhas)\n",
    "\n",
    "## Métodos de soluções para Sistemas Lineares ##\n",
    "\n",
    "#### Métodos Direto - São aqueles que fornecem uma solução exata, a menos que existam erros de arredondamento. ####\n",
    "* Eliminação de Gauss;\n",
    "* Fatoração LU;\n",
    "\n",
    "#### Métodos Indiretos - São aqueles que geram uma sequência de vetores x(k) a partir de uma aproximação inicial x(0). ####\n",
    "* Método Iterativo de Gauss;\n",
    "* Método Iterativo de Gauss-Jacobi;\n"
   ]
  },
  {
   "cell_type": "code",
   "execution_count": 67,
   "id": "5aea2c26",
   "metadata": {},
   "outputs": [],
   "source": [
    "import numpy as np\n",
    "A = np.array([[1, 1], [-3, 1]])\n",
    "B = np.array([[6], [2]])"
   ]
  },
  {
   "cell_type": "code",
   "execution_count": 68,
   "id": "5026f642",
   "metadata": {},
   "outputs": [
    {
     "data": {
      "text/plain": [
       "array([[1.],\n",
       "       [5.]])"
      ]
     },
     "execution_count": 68,
     "metadata": {},
     "output_type": "execute_result"
    }
   ],
   "source": [
    "np.linalg.solve(A, B)"
   ]
  },
  {
   "cell_type": "markdown",
   "id": "87f065ad",
   "metadata": {},
   "source": [
    "# Método de Eliminação de Gauss #\n",
    "\n",
    "\n",
    "* O método de triangularização de Gauss consiste em zerar os elementos abaixo da diagonal principal da matriz dos coeficientes. O objetivo é deixar o sistema na seguinte forma:\n",
    "\n",
    "![Eliminação de Gauss](https://geokrigagem.com.br/wp-content/uploads/2020/07/formula__3.png)\n",
    "\n",
    "##### Usa-se tecnicas de escalonamento:  <br/> #####\n",
    "\n",
    "* Pode trocar ordem das linhas;  <br/>\n",
    "* Multiplicar linha por escalar (≠ 0);  <br/>\n",
    "* Descartar linha de zeros;  <br/>\n",
    "* Trocar linha por combinação linear de uma linha c/ outra;  <br/>\n",
    "\n",
    "###### Pivô ######\n",
    "\n",
    "* Toda linha tem seu pivô;\n",
    "* Elemento mais a esquerda e para cima da linha;\n",
    "* Precisa ser ≠ 0\n",
    "\n",
    "Ultiliza-se então metodos de escalinamento até que todos os numeros abaixo do pivô seja iguais a zero."
   ]
  },
  {
   "cell_type": "markdown",
   "id": "68a56f0d",
   "metadata": {},
   "source": [
    "# Método de Eliminação de Gauss-Jordan #\n",
    "\n",
    "* Este método é uma complementação ao método de Gauss. Ele transforma o sistema dado em um outro diagonal, isto é, onde todos os elementos fora da diagonal são nulos. O método de Gauss exigia apenas que se chegasse à forma triangular.\n",
    "\n"
   ]
  },
  {
   "cell_type": "code",
   "execution_count": 69,
   "id": "602059d7",
   "metadata": {},
   "outputs": [
    {
     "name": "stdout",
     "output_type": "stream",
     "text": [
      "(Matrix([\n",
      "[1, 0, 0,  -2.0],\n",
      "[0, 1, 0,  -5.0],\n",
      "[0, 0, 1, -12.0]]), (0, 1, 2))\n"
     ]
    }
   ],
   "source": [
    "from sympy import Matrix\n",
    "\n",
    "A=np.array([-2,3,-1, 1,  1,1.2,-1, 4,  -2,-1,1,-3]).reshape(3,4)\n",
    "\n",
    "print(Matrix(A).rref())"
   ]
  },
  {
   "cell_type": "markdown",
   "id": "4416075d",
   "metadata": {},
   "source": [
    "# Método de Fatoração LU #\n",
    "\n",
    "##### Em álgebra linear, a decomposição LU é uma forma de fatoração de uma matriz não singular como o produto de uma matriz triangular inferior e uma matriz triangular superior"
   ]
  },
  {
   "cell_type": "code",
   "execution_count": 70,
   "id": "3dc1541a",
   "metadata": {},
   "outputs": [],
   "source": [
    "import numpy as np\n",
    "\n",
    "A = np.array([[3., 2, 4], [1, 1, 2], [4, 3, 2]])\n",
    "\n",
    "B = np.array([1., 2, 3])"
   ]
  },
  {
   "cell_type": "code",
   "execution_count": 71,
   "id": "28a77b33",
   "metadata": {},
   "outputs": [
    {
     "name": "stdout",
     "output_type": "stream",
     "text": [
      "[-3.  5.  0.]\n"
     ]
    }
   ],
   "source": [
    "def LU(A,b) :\n",
    "    import scipy.linalg\n",
    "    \n",
    "    L,U = scipy.linalg.lu(A,permute_l=True)\n",
    "    \n",
    "    y = scipy.linalg.solve(L,b)\n",
    "    \n",
    "    x = scipy.linalg.solve_triangular(U,y)\n",
    "    \n",
    "    return x\n",
    "   \n",
    "print(LU(A,B))\n"
   ]
  },
  {
   "cell_type": "markdown",
   "id": "c496eeeb",
   "metadata": {},
   "source": [
    "# Método de Gauss-Jacobi #\n",
    "\n",
    "#### O método de Gauss-Jacobi é um método iterativo para resolução de sistemas de equações lineares"
   ]
  },
  {
   "cell_type": "code",
   "execution_count": 72,
   "id": "38f09739",
   "metadata": {},
   "outputs": [],
   "source": [
    "x1,x2,x3,x4 = 0,0,0,0\n",
    "\n",
    "a,b,c,err = 0,0,0,0"
   ]
  },
  {
   "cell_type": "code",
   "execution_count": 73,
   "id": "57d32eeb",
   "metadata": {},
   "outputs": [
    {
     "name": "stdout",
     "output_type": "stream",
     "text": [
      " 1 \t0.700 \t-1.600 \t0.600\n",
      "\n",
      " 2 \t0.960 \t-1.860 \t0.940\n",
      "\n",
      " 3 \t0.978 \t-1.980 \t0.966\n",
      "\n",
      " 4 \t0.999 \t-1.989 \t0.998\n",
      "\n",
      " 5 \t0.998 \t-2.000 \t0.997\n",
      "\n",
      " 6 \t1.000 \t-1.999 \t1.000\n",
      "\n",
      " 7 \t1.000 \t-2.000 \t1.000\n",
      "\n",
      " 8 \t1.000 \t-2.000 \t1.000\n",
      "\n",
      " 9 \t1.000 \t-2.000 \t1.000\n",
      "\n",
      "10 \t1.000 \t-2.000 \t1.000\n",
      "\n",
      "11 \t1.000 \t-2.000 \t1.000\n",
      "\n",
      "12 \t1.000 \t-2.000 \t1.000\n",
      "\n",
      "13 \t1.000 \t-2.000 \t1.000\n",
      "\n",
      "14 \t1.000 \t-2.000 \t1.000\n",
      "\n",
      "15 \t1.000 \t-2.000 \t1.000\n",
      "\n",
      "16 \t1.000 \t-2.000 \t1.000\n",
      "\n",
      "17 \t1.000 \t-2.000 \t1.000\n",
      "\n",
      "18 \t1.000 \t-2.000 \t1.000\n",
      "\n",
      "19 \t1.000 \t-2.000 \t1.000\n",
      "\n"
     ]
    }
   ],
   "source": [
    "\n",
    "for k in range(1,20):\n",
    "    a=(7-(2*x2+x3))/10;        \n",
    "    b=(-8-(x1+x3))/5;          \n",
    "    c=(6-(2*x1+3*x2))/10;         \n",
    "    \n",
    "    if((abs(x1-a) < err) and (abs(x2-b))<err and (abs(x3-c))<err):\n",
    "        break\n",
    "        \n",
    "    x1,x2,x3=a,b,c\n",
    "    \n",
    "    print('%2.d \\t%.3f \\t%.3f \\t%.3f\\n'%(k,x1,x2,x3))"
   ]
  },
  {
   "cell_type": "markdown",
   "id": "07aaa4f7",
   "metadata": {},
   "source": [
    "# Método de Gauss-Seidel #\n",
    "\n",
    "#### O método de Gauss-Seidel é um método iterativo para resolução de sistemas de equações lineares"
   ]
  },
  {
   "cell_type": "code",
   "execution_count": 74,
   "id": "c166b926",
   "metadata": {},
   "outputs": [],
   "source": [
    "x1,x2,x3,x4 = 0,0,0,0"
   ]
  },
  {
   "cell_type": "code",
   "execution_count": 75,
   "id": "94114dac",
   "metadata": {},
   "outputs": [
    {
     "name": "stdout",
     "output_type": "stream",
     "text": [
      " 1 \t0.700 \t-1.740 \t0.982\n",
      "\n",
      " 2 \t0.950 \t-1.986 \t1.006\n",
      "\n",
      " 3 \t0.997 \t-2.001 \t1.001\n",
      "\n",
      " 4 \t1.000 \t-2.000 \t1.000\n",
      "\n",
      " 5 \t1.000 \t-2.000 \t1.000\n",
      "\n",
      " 6 \t1.000 \t-2.000 \t1.000\n",
      "\n",
      " 7 \t1.000 \t-2.000 \t1.000\n",
      "\n",
      " 8 \t1.000 \t-2.000 \t1.000\n",
      "\n",
      " 9 \t1.000 \t-2.000 \t1.000\n",
      "\n",
      "10 \t1.000 \t-2.000 \t1.000\n",
      "\n",
      "11 \t1.000 \t-2.000 \t1.000\n",
      "\n",
      "12 \t1.000 \t-2.000 \t1.000\n",
      "\n",
      "13 \t1.000 \t-2.000 \t1.000\n",
      "\n",
      "14 \t1.000 \t-2.000 \t1.000\n",
      "\n",
      "15 \t1.000 \t-2.000 \t1.000\n",
      "\n",
      "16 \t1.000 \t-2.000 \t1.000\n",
      "\n",
      "17 \t1.000 \t-2.000 \t1.000\n",
      "\n",
      "18 \t1.000 \t-2.000 \t1.000\n",
      "\n",
      "19 \t1.000 \t-2.000 \t1.000\n",
      "\n"
     ]
    }
   ],
   "source": [
    "for k in range(1,20):\n",
    "    a , x1 = x1 , (7-(2*x2+x3))/10       \n",
    "    b , x2 = x2 , (-8-(x1+x3))/5;          \n",
    "    c , x3 = x3 , (6-(2*x1+3*x2))/10;  \n",
    "    \n",
    "    if((abs(x1-a) < err) and (abs(x2-b))<err and (abs(x3-c))<err):        \n",
    "        break\n",
    "        \n",
    "    print('%2.d \\t%.3f \\t%.3f \\t%.3f\\n'%(k,x1,x2,x3))\n"
   ]
  },
  {
   "cell_type": "code",
   "execution_count": null,
   "id": "6c8fb234",
   "metadata": {},
   "outputs": [],
   "source": []
  }
 ],
 "metadata": {
  "kernelspec": {
   "display_name": "Python 3 (ipykernel)",
   "language": "python",
   "name": "python3"
  },
  "language_info": {
   "codemirror_mode": {
    "name": "ipython",
    "version": 3
   },
   "file_extension": ".py",
   "mimetype": "text/x-python",
   "name": "python",
   "nbconvert_exporter": "python",
   "pygments_lexer": "ipython3",
   "version": "3.9.7"
  }
 },
 "nbformat": 4,
 "nbformat_minor": 5
}
